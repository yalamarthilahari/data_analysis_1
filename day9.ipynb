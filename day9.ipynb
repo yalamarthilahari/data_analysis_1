{
  "nbformat": 4,
  "nbformat_minor": 0,
  "metadata": {
    "colab": {
      "provenance": []
    },
    "kernelspec": {
      "name": "python3",
      "display_name": "Python 3"
    },
    "language_info": {
      "name": "python"
    }
  },
  "cells": [
    {
      "cell_type": "code",
      "execution_count": null,
      "metadata": {
        "colab": {
          "base_uri": "https://localhost:8080/"
        },
        "id": "Y_MQvpA06CZ-",
        "outputId": "c2e55377-8467-4463-cc3f-33a753623f90"
      },
      "outputs": [
        {
          "output_type": "stream",
          "name": "stdout",
          "text": [
            "Requirement already satisfied: scipy in /usr/local/lib/python3.10/dist-packages (1.11.4)\n",
            "Requirement already satisfied: numpy<1.28.0,>=1.21.6 in /usr/local/lib/python3.10/dist-packages (from scipy) (1.25.2)\n"
          ]
        }
      ],
      "source": [
        "!pip install scipy"
      ]
    },
    {
      "cell_type": "code",
      "source": [
        "import scipy\n",
        "#example : integration using quad function\n",
        "from scipy import integrate\n",
        "result, error = integrate.quad(lambda X:X**2,0,1)\n",
        "print(\"result\", result)\n",
        "print(\"error\",error)"
      ],
      "metadata": {
        "colab": {
          "base_uri": "https://localhost:8080/"
        },
        "id": "8ZNEuD9s8M50",
        "outputId": "38808bd4-73e7-45ea-a535-30ecfe14c096"
      },
      "execution_count": null,
      "outputs": [
        {
          "output_type": "stream",
          "name": "stdout",
          "text": [
            "result 0.33333333333333337\n",
            "error 3.700743415417189e-15\n"
          ]
        }
      ]
    },
    {
      "cell_type": "code",
      "source": [
        "import numpy as np\n",
        "from scipy import optimize\n",
        "#Optimization\n",
        "result_optimization=optimize.minimize_scalar(lambda X:X**2 + 3*X +5)\n",
        "print(\"Optimization Result\",result_optimization.x)"
      ],
      "metadata": {
        "colab": {
          "base_uri": "https://localhost:8080/"
        },
        "id": "XHU4aapq9pJp",
        "outputId": "83ed2b35-1d99-4139-8435-90dcb52bcc24"
      },
      "execution_count": null,
      "outputs": [
        {
          "output_type": "stream",
          "name": "stdout",
          "text": [
            "Optimization Result -1.5000000000000002\n"
          ]
        }
      ]
    },
    {
      "cell_type": "code",
      "source": [
        "square = lambda X:X**2\n",
        "#using the lambda fun\n",
        "result=square(5)\n",
        "print(\"Result\",result)"
      ],
      "metadata": {
        "colab": {
          "base_uri": "https://localhost:8080/"
        },
        "id": "MJRhx9NZ-neK",
        "outputId": "d68a30fa-17c1-487b-cb9f-d7cdcacdc9e7"
      },
      "execution_count": null,
      "outputs": [
        {
          "output_type": "stream",
          "name": "stdout",
          "text": [
            "Result 25\n"
          ]
        }
      ]
    },
    {
      "cell_type": "code",
      "source": [
        "add_numbers=lambda x,y: x+y\n",
        "result =add_numbers(3,7)\n",
        "print(\"result:\",result)"
      ],
      "metadata": {
        "colab": {
          "base_uri": "https://localhost:8080/"
        },
        "id": "fAtU8yho_P0K",
        "outputId": "36cc6e4f-ef7d-4c12-ebbf-da3245ae34f5"
      },
      "execution_count": null,
      "outputs": [
        {
          "output_type": "stream",
          "name": "stdout",
          "text": [
            "result: 10\n"
          ]
        }
      ]
    },
    {
      "cell_type": "code",
      "source": [
        "import numpy as np\n",
        "from scipy import interpolate\n",
        "x_data = np.array([0,1,2,3,4])\n",
        "y_data = np.array([0,2,1,3,5])\n",
        "interp_func=interpolate.interp1d(x_data,y_data,kind='linear')\n",
        "interp_result=interp_func(2.5)\n",
        "print(\"Interpolation Result:\",interp_result)"
      ],
      "metadata": {
        "colab": {
          "base_uri": "https://localhost:8080/"
        },
        "id": "KyELnTms_kb9",
        "outputId": "4a19169d-61b7-4ca3-b691-afb1732c6867"
      },
      "execution_count": null,
      "outputs": [
        {
          "output_type": "stream",
          "name": "stdout",
          "text": [
            "Interpolation Result: 2.0\n"
          ]
        }
      ]
    },
    {
      "cell_type": "code",
      "source": [],
      "metadata": {
        "id": "EL-ti05K_kYj"
      },
      "execution_count": null,
      "outputs": []
    }
  ]
}