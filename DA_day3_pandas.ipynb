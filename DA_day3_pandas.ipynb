{
  "nbformat": 4,
  "nbformat_minor": 0,
  "metadata": {
    "colab": {
      "provenance": []
    },
    "kernelspec": {
      "name": "python3",
      "display_name": "Python 3"
    },
    "language_info": {
      "name": "python"
    }
  },
  "cells": [
    {
      "cell_type": "code",
      "execution_count": null,
      "metadata": {
        "id": "euDtxgxOzqCf"
      },
      "outputs": [],
      "source": [
        "import pandas as pd"
      ]
    },
    {
      "cell_type": "markdown",
      "source": [
        "pandas:      \n",
        "*used for data manipulation (Data cleaning,Organizing data)     \n",
        "*creaetes dataframes from excel,csv,txt,DBs     \n",
        "*Dataframes (rows and columns readable by python)     \n",
        "*Data cleaning by dropping or replacing with mean    \n",
        "*visualize the data   \n",
        "*import pandas as pd\n"
      ],
      "metadata": {
        "id": "uCLEdF_320OI"
      }
    },
    {
      "cell_type": "markdown",
      "source": [
        "series"
      ],
      "metadata": {
        "id": "nYIff00b56-G"
      }
    },
    {
      "cell_type": "code",
      "source": [
        "names = [ \"lahari\",\"vijaya\",\"kavya\"]\n",
        "index=[20,21,22]\n",
        "Ser1=pd.Series(names,index)\n",
        "print(Ser1)"
      ],
      "metadata": {
        "colab": {
          "base_uri": "https://localhost:8080/"
        },
        "id": "ZqsxHhPN6Df8",
        "outputId": "8b83701c-ec8c-4a37-f975-b5475e740ff3"
      },
      "execution_count": null,
      "outputs": [
        {
          "output_type": "stream",
          "name": "stdout",
          "text": [
            "20    lahari\n",
            "21    vijaya\n",
            "22     kavya\n",
            "dtype: object\n"
          ]
        }
      ]
    }
  ]
}